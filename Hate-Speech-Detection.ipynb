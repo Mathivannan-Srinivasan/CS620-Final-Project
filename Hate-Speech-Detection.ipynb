{
  "nbformat": 4,
  "nbformat_minor": 0,
  "metadata": {
    "colab": {
      "name": "NPL-Project.ipynb",
      "provenance": [],
      "collapsed_sections": []
    },
    "kernelspec": {
      "name": "python3",
      "display_name": "Python 3"
    },
    "language_info": {
      "name": "python"
    },
    "accelerator": "GPU",
    "gpuClass": "standard",
    "widgets": {
      "application/vnd.jupyter.widget-state+json": {
        "47e12dadac604eaab6889b47c1d922ba": {
          "model_module": "@jupyter-widgets/controls",
          "model_name": "HBoxModel",
          "model_module_version": "1.5.0",
          "state": {
            "_dom_classes": [],
            "_model_module": "@jupyter-widgets/controls",
            "_model_module_version": "1.5.0",
            "_model_name": "HBoxModel",
            "_view_count": null,
            "_view_module": "@jupyter-widgets/controls",
            "_view_module_version": "1.5.0",
            "_view_name": "HBoxView",
            "box_style": "",
            "children": [
              "IPY_MODEL_67c609b4ad9b4c85b92aba9859d85e84",
              "IPY_MODEL_944171ec29e947fc8a6b3a06f6f087d1",
              "IPY_MODEL_f863958c4dde4f14ae986e6f81d5a67d"
            ],
            "layout": "IPY_MODEL_9f4ea2fbb56146d591f66bf9d38121f8"
          }
        },
        "67c609b4ad9b4c85b92aba9859d85e84": {
          "model_module": "@jupyter-widgets/controls",
          "model_name": "HTMLModel",
          "model_module_version": "1.5.0",
          "state": {
            "_dom_classes": [],
            "_model_module": "@jupyter-widgets/controls",
            "_model_module_version": "1.5.0",
            "_model_name": "HTMLModel",
            "_view_count": null,
            "_view_module": "@jupyter-widgets/controls",
            "_view_module_version": "1.5.0",
            "_view_name": "HTMLView",
            "description": "",
            "description_tooltip": null,
            "layout": "IPY_MODEL_1af36b1080974f8e9962a474507e9fdb",
            "placeholder": "​",
            "style": "IPY_MODEL_ec3fadcff55643a88dcf4829b611d506",
            "value": "100%"
          }
        },
        "944171ec29e947fc8a6b3a06f6f087d1": {
          "model_module": "@jupyter-widgets/controls",
          "model_name": "FloatProgressModel",
          "model_module_version": "1.5.0",
          "state": {
            "_dom_classes": [],
            "_model_module": "@jupyter-widgets/controls",
            "_model_module_version": "1.5.0",
            "_model_name": "FloatProgressModel",
            "_view_count": null,
            "_view_module": "@jupyter-widgets/controls",
            "_view_module_version": "1.5.0",
            "_view_name": "ProgressView",
            "bar_style": "success",
            "description": "",
            "description_tooltip": null,
            "layout": "IPY_MODEL_9d224869338a4c6f875fce9cf790db69",
            "max": 1,
            "min": 0,
            "orientation": "horizontal",
            "style": "IPY_MODEL_8e31e04e5b254c84a0fb3a92a430f656",
            "value": 1
          }
        },
        "f863958c4dde4f14ae986e6f81d5a67d": {
          "model_module": "@jupyter-widgets/controls",
          "model_name": "HTMLModel",
          "model_module_version": "1.5.0",
          "state": {
            "_dom_classes": [],
            "_model_module": "@jupyter-widgets/controls",
            "_model_module_version": "1.5.0",
            "_model_name": "HTMLModel",
            "_view_count": null,
            "_view_module": "@jupyter-widgets/controls",
            "_view_module_version": "1.5.0",
            "_view_name": "HTMLView",
            "description": "",
            "description_tooltip": null,
            "layout": "IPY_MODEL_db16fe5660214a4793239360592e53b7",
            "placeholder": "​",
            "style": "IPY_MODEL_bb4adbcee0dc46f7bc4a707d1da1b202",
            "value": " 1/1 [00:00&lt;00:00, 26.92it/s]"
          }
        },
        "9f4ea2fbb56146d591f66bf9d38121f8": {
          "model_module": "@jupyter-widgets/base",
          "model_name": "LayoutModel",
          "model_module_version": "1.2.0",
          "state": {
            "_model_module": "@jupyter-widgets/base",
            "_model_module_version": "1.2.0",
            "_model_name": "LayoutModel",
            "_view_count": null,
            "_view_module": "@jupyter-widgets/base",
            "_view_module_version": "1.2.0",
            "_view_name": "LayoutView",
            "align_content": null,
            "align_items": null,
            "align_self": null,
            "border": null,
            "bottom": null,
            "display": null,
            "flex": null,
            "flex_flow": null,
            "grid_area": null,
            "grid_auto_columns": null,
            "grid_auto_flow": null,
            "grid_auto_rows": null,
            "grid_column": null,
            "grid_gap": null,
            "grid_row": null,
            "grid_template_areas": null,
            "grid_template_columns": null,
            "grid_template_rows": null,
            "height": null,
            "justify_content": null,
            "justify_items": null,
            "left": null,
            "margin": null,
            "max_height": null,
            "max_width": null,
            "min_height": null,
            "min_width": null,
            "object_fit": null,
            "object_position": null,
            "order": null,
            "overflow": null,
            "overflow_x": null,
            "overflow_y": null,
            "padding": null,
            "right": null,
            "top": null,
            "visibility": null,
            "width": null
          }
        },
        "1af36b1080974f8e9962a474507e9fdb": {
          "model_module": "@jupyter-widgets/base",
          "model_name": "LayoutModel",
          "model_module_version": "1.2.0",
          "state": {
            "_model_module": "@jupyter-widgets/base",
            "_model_module_version": "1.2.0",
            "_model_name": "LayoutModel",
            "_view_count": null,
            "_view_module": "@jupyter-widgets/base",
            "_view_module_version": "1.2.0",
            "_view_name": "LayoutView",
            "align_content": null,
            "align_items": null,
            "align_self": null,
            "border": null,
            "bottom": null,
            "display": null,
            "flex": null,
            "flex_flow": null,
            "grid_area": null,
            "grid_auto_columns": null,
            "grid_auto_flow": null,
            "grid_auto_rows": null,
            "grid_column": null,
            "grid_gap": null,
            "grid_row": null,
            "grid_template_areas": null,
            "grid_template_columns": null,
            "grid_template_rows": null,
            "height": null,
            "justify_content": null,
            "justify_items": null,
            "left": null,
            "margin": null,
            "max_height": null,
            "max_width": null,
            "min_height": null,
            "min_width": null,
            "object_fit": null,
            "object_position": null,
            "order": null,
            "overflow": null,
            "overflow_x": null,
            "overflow_y": null,
            "padding": null,
            "right": null,
            "top": null,
            "visibility": null,
            "width": null
          }
        },
        "ec3fadcff55643a88dcf4829b611d506": {
          "model_module": "@jupyter-widgets/controls",
          "model_name": "DescriptionStyleModel",
          "model_module_version": "1.5.0",
          "state": {
            "_model_module": "@jupyter-widgets/controls",
            "_model_module_version": "1.5.0",
            "_model_name": "DescriptionStyleModel",
            "_view_count": null,
            "_view_module": "@jupyter-widgets/base",
            "_view_module_version": "1.2.0",
            "_view_name": "StyleView",
            "description_width": ""
          }
        },
        "9d224869338a4c6f875fce9cf790db69": {
          "model_module": "@jupyter-widgets/base",
          "model_name": "LayoutModel",
          "model_module_version": "1.2.0",
          "state": {
            "_model_module": "@jupyter-widgets/base",
            "_model_module_version": "1.2.0",
            "_model_name": "LayoutModel",
            "_view_count": null,
            "_view_module": "@jupyter-widgets/base",
            "_view_module_version": "1.2.0",
            "_view_name": "LayoutView",
            "align_content": null,
            "align_items": null,
            "align_self": null,
            "border": null,
            "bottom": null,
            "display": null,
            "flex": null,
            "flex_flow": null,
            "grid_area": null,
            "grid_auto_columns": null,
            "grid_auto_flow": null,
            "grid_auto_rows": null,
            "grid_column": null,
            "grid_gap": null,
            "grid_row": null,
            "grid_template_areas": null,
            "grid_template_columns": null,
            "grid_template_rows": null,
            "height": null,
            "justify_content": null,
            "justify_items": null,
            "left": null,
            "margin": null,
            "max_height": null,
            "max_width": null,
            "min_height": null,
            "min_width": null,
            "object_fit": null,
            "object_position": null,
            "order": null,
            "overflow": null,
            "overflow_x": null,
            "overflow_y": null,
            "padding": null,
            "right": null,
            "top": null,
            "visibility": null,
            "width": null
          }
        },
        "8e31e04e5b254c84a0fb3a92a430f656": {
          "model_module": "@jupyter-widgets/controls",
          "model_name": "ProgressStyleModel",
          "model_module_version": "1.5.0",
          "state": {
            "_model_module": "@jupyter-widgets/controls",
            "_model_module_version": "1.5.0",
            "_model_name": "ProgressStyleModel",
            "_view_count": null,
            "_view_module": "@jupyter-widgets/base",
            "_view_module_version": "1.2.0",
            "_view_name": "StyleView",
            "bar_color": null,
            "description_width": ""
          }
        },
        "db16fe5660214a4793239360592e53b7": {
          "model_module": "@jupyter-widgets/base",
          "model_name": "LayoutModel",
          "model_module_version": "1.2.0",
          "state": {
            "_model_module": "@jupyter-widgets/base",
            "_model_module_version": "1.2.0",
            "_model_name": "LayoutModel",
            "_view_count": null,
            "_view_module": "@jupyter-widgets/base",
            "_view_module_version": "1.2.0",
            "_view_name": "LayoutView",
            "align_content": null,
            "align_items": null,
            "align_self": null,
            "border": null,
            "bottom": null,
            "display": null,
            "flex": null,
            "flex_flow": null,
            "grid_area": null,
            "grid_auto_columns": null,
            "grid_auto_flow": null,
            "grid_auto_rows": null,
            "grid_column": null,
            "grid_gap": null,
            "grid_row": null,
            "grid_template_areas": null,
            "grid_template_columns": null,
            "grid_template_rows": null,
            "height": null,
            "justify_content": null,
            "justify_items": null,
            "left": null,
            "margin": null,
            "max_height": null,
            "max_width": null,
            "min_height": null,
            "min_width": null,
            "object_fit": null,
            "object_position": null,
            "order": null,
            "overflow": null,
            "overflow_x": null,
            "overflow_y": null,
            "padding": null,
            "right": null,
            "top": null,
            "visibility": null,
            "width": null
          }
        },
        "bb4adbcee0dc46f7bc4a707d1da1b202": {
          "model_module": "@jupyter-widgets/controls",
          "model_name": "DescriptionStyleModel",
          "model_module_version": "1.5.0",
          "state": {
            "_model_module": "@jupyter-widgets/controls",
            "_model_module_version": "1.5.0",
            "_model_name": "DescriptionStyleModel",
            "_view_count": null,
            "_view_module": "@jupyter-widgets/base",
            "_view_module_version": "1.2.0",
            "_view_name": "StyleView",
            "description_width": ""
          }
        }
      }
    }
  },
  "cells": [
    {
      "cell_type": "markdown",
      "source": [
        "# Hate Speech Detection from Tweets (Shallow Methods)"
      ],
      "metadata": {
        "id": "LAjttC9fPij5"
      }
    },
    {
      "cell_type": "markdown",
      "source": [
        "## Import Datasets and Libraries"
      ],
      "metadata": {
        "id": "MYtJ3iDQPwz6"
      }
    },
    {
      "cell_type": "code",
      "execution_count": null,
      "metadata": {
        "id": "pZjs1fTnjfgv",
        "colab": {
          "base_uri": "https://localhost:8080/"
        },
        "outputId": "6fb581e1-b93d-4667-a366-004f87616d49"
      },
      "outputs": [
        {
          "output_type": "stream",
          "name": "stdout",
          "text": [
            "Looking in indexes: https://pypi.org/simple, https://us-python.pkg.dev/colab-wheels/public/simple/\n",
            "Requirement already satisfied: datasets in /usr/local/lib/python3.7/dist-packages (2.4.0)\n",
            "Requirement already satisfied: importlib-metadata in /usr/local/lib/python3.7/dist-packages (from datasets) (4.12.0)\n",
            "Requirement already satisfied: dill<0.3.6 in /usr/local/lib/python3.7/dist-packages (from datasets) (0.3.5.1)\n",
            "Requirement already satisfied: numpy>=1.17 in /usr/local/lib/python3.7/dist-packages (from datasets) (1.21.6)\n",
            "Requirement already satisfied: packaging in /usr/local/lib/python3.7/dist-packages (from datasets) (21.3)\n",
            "Requirement already satisfied: aiohttp in /usr/local/lib/python3.7/dist-packages (from datasets) (3.8.1)\n",
            "Requirement already satisfied: pyarrow>=6.0.0 in /usr/local/lib/python3.7/dist-packages (from datasets) (6.0.1)\n",
            "Requirement already satisfied: pandas in /usr/local/lib/python3.7/dist-packages (from datasets) (1.3.5)\n",
            "Requirement already satisfied: huggingface-hub<1.0.0,>=0.1.0 in /usr/local/lib/python3.7/dist-packages (from datasets) (0.8.1)\n",
            "Requirement already satisfied: responses<0.19 in /usr/local/lib/python3.7/dist-packages (from datasets) (0.18.0)\n",
            "Requirement already satisfied: fsspec[http]>=2021.11.1 in /usr/local/lib/python3.7/dist-packages (from datasets) (2022.7.1)\n",
            "Requirement already satisfied: tqdm>=4.62.1 in /usr/local/lib/python3.7/dist-packages (from datasets) (4.64.0)\n",
            "Requirement already satisfied: xxhash in /usr/local/lib/python3.7/dist-packages (from datasets) (3.0.0)\n",
            "Requirement already satisfied: multiprocess in /usr/local/lib/python3.7/dist-packages (from datasets) (0.70.13)\n",
            "Requirement already satisfied: requests>=2.19.0 in /usr/local/lib/python3.7/dist-packages (from datasets) (2.23.0)\n",
            "Requirement already satisfied: typing-extensions>=3.7.4.3 in /usr/local/lib/python3.7/dist-packages (from huggingface-hub<1.0.0,>=0.1.0->datasets) (4.1.1)\n",
            "Requirement already satisfied: filelock in /usr/local/lib/python3.7/dist-packages (from huggingface-hub<1.0.0,>=0.1.0->datasets) (3.7.1)\n",
            "Requirement already satisfied: pyyaml>=5.1 in /usr/local/lib/python3.7/dist-packages (from huggingface-hub<1.0.0,>=0.1.0->datasets) (6.0)\n",
            "Requirement already satisfied: pyparsing!=3.0.5,>=2.0.2 in /usr/local/lib/python3.7/dist-packages (from packaging->datasets) (3.0.9)\n",
            "Requirement already satisfied: chardet<4,>=3.0.2 in /usr/local/lib/python3.7/dist-packages (from requests>=2.19.0->datasets) (3.0.4)\n",
            "Requirement already satisfied: certifi>=2017.4.17 in /usr/local/lib/python3.7/dist-packages (from requests>=2.19.0->datasets) (2022.6.15)\n",
            "Requirement already satisfied: urllib3!=1.25.0,!=1.25.1,<1.26,>=1.21.1 in /usr/local/lib/python3.7/dist-packages (from requests>=2.19.0->datasets) (1.25.11)\n",
            "Requirement already satisfied: idna<3,>=2.5 in /usr/local/lib/python3.7/dist-packages (from requests>=2.19.0->datasets) (2.10)\n",
            "Requirement already satisfied: multidict<7.0,>=4.5 in /usr/local/lib/python3.7/dist-packages (from aiohttp->datasets) (6.0.2)\n",
            "Requirement already satisfied: charset-normalizer<3.0,>=2.0 in /usr/local/lib/python3.7/dist-packages (from aiohttp->datasets) (2.1.0)\n",
            "Requirement already satisfied: aiosignal>=1.1.2 in /usr/local/lib/python3.7/dist-packages (from aiohttp->datasets) (1.2.0)\n",
            "Requirement already satisfied: attrs>=17.3.0 in /usr/local/lib/python3.7/dist-packages (from aiohttp->datasets) (22.1.0)\n",
            "Requirement already satisfied: async-timeout<5.0,>=4.0.0a3 in /usr/local/lib/python3.7/dist-packages (from aiohttp->datasets) (4.0.2)\n",
            "Requirement already satisfied: frozenlist>=1.1.1 in /usr/local/lib/python3.7/dist-packages (from aiohttp->datasets) (1.3.1)\n",
            "Requirement already satisfied: asynctest==0.13.0 in /usr/local/lib/python3.7/dist-packages (from aiohttp->datasets) (0.13.0)\n",
            "Requirement already satisfied: yarl<2.0,>=1.0 in /usr/local/lib/python3.7/dist-packages (from aiohttp->datasets) (1.8.1)\n",
            "Requirement already satisfied: zipp>=0.5 in /usr/local/lib/python3.7/dist-packages (from importlib-metadata->datasets) (3.8.1)\n",
            "Requirement already satisfied: python-dateutil>=2.7.3 in /usr/local/lib/python3.7/dist-packages (from pandas->datasets) (2.8.2)\n",
            "Requirement already satisfied: pytz>=2017.3 in /usr/local/lib/python3.7/dist-packages (from pandas->datasets) (2022.1)\n",
            "Requirement already satisfied: six>=1.5 in /usr/local/lib/python3.7/dist-packages (from python-dateutil>=2.7.3->pandas->datasets) (1.15.0)\n"
          ]
        }
      ],
      "source": [
        "!pip3 install datasets"
      ]
    },
    {
      "cell_type": "code",
      "source": [
        "import pickle\n",
        "import datasets \n",
        "import string\n",
        "import re\n",
        "import numpy as np\n",
        "import pandas as pd\n",
        "import seaborn as sns\n",
        "import matplotlib.pyplot as plt\n",
        "\n",
        "from sklearn.model_selection import train_test_split\n",
        "from sklearn.metrics import confusion_matrix\n",
        "from sklearn.feature_extraction.text import TfidfVectorizer, CountVectorizer\n",
        "from sklearn.naive_bayes import GaussianNB, MultinomialNB, BernoulliNB\n",
        "from sklearn import metrics\n",
        "from sklearn.feature_extraction.text import TfidfVectorizer\n",
        "from sklearn import model_selection, naive_bayes, svm\n",
        "from sklearn.metrics import accuracy_score\n",
        "from sklearn import linear_model \n",
        "from sklearn.ensemble import RandomForestClassifier\n",
        "from sklearn import neighbors\n",
        "\n",
        "import nltk\n",
        "from nltk.corpus import stopwords\n",
        "from nltk.tokenize import word_tokenize\n",
        "from nltk.tokenize import word_tokenize\n",
        "from nltk import pos_tag\n",
        "from nltk.corpus import stopwords\n",
        "from nltk.stem import WordNetLemmatizer\n",
        "from nltk.corpus import wordnet as wn\n",
        "\n",
        "from xgboost import XGBClassifier\n",
        "from sklearn.metrics import classification_report\n",
        "\n",
        "import warnings\n",
        "warnings.filterwarnings('ignore')"
      ],
      "metadata": {
        "id": "P3lrHfLVm25M"
      },
      "execution_count": null,
      "outputs": []
    },
    {
      "cell_type": "markdown",
      "source": [
        "## Visualize Data"
      ],
      "metadata": {
        "id": "txkNIcLG3F-R"
      }
    },
    {
      "cell_type": "markdown",
      "source": [
        "Load UC Berkley Dataset for measuring hate speech."
      ],
      "metadata": {
        "id": "KmF_Sapc5V7o"
      }
    },
    {
      "cell_type": "code",
      "source": [
        "dataset = datasets.load_dataset('ucberkeley-dlab/measuring-hate-speech', 'binary')   \n",
        "df = dataset['train'].to_pandas()"
      ],
      "metadata": {
        "colab": {
          "base_uri": "https://localhost:8080/",
          "height": 105,
          "referenced_widgets": [
            "47e12dadac604eaab6889b47c1d922ba",
            "67c609b4ad9b4c85b92aba9859d85e84",
            "944171ec29e947fc8a6b3a06f6f087d1",
            "f863958c4dde4f14ae986e6f81d5a67d",
            "9f4ea2fbb56146d591f66bf9d38121f8",
            "1af36b1080974f8e9962a474507e9fdb",
            "ec3fadcff55643a88dcf4829b611d506",
            "9d224869338a4c6f875fce9cf790db69",
            "8e31e04e5b254c84a0fb3a92a430f656",
            "db16fe5660214a4793239360592e53b7",
            "bb4adbcee0dc46f7bc4a707d1da1b202"
          ]
        },
        "id": "2FdnJOO8l5Qx",
        "outputId": "adc9f811-b560-4101-9c1c-5662306b9a66"
      },
      "execution_count": null,
      "outputs": [
        {
          "output_type": "stream",
          "name": "stderr",
          "text": [
            "Using custom data configuration ucberkeley-dlab--measuring-hate-speech-7a847a2ec289eb57\n",
            "Reusing dataset parquet (/Users/rathinvaradharajan/.cache/huggingface/datasets/ucberkeley-dlab___parquet/ucberkeley-dlab--measuring-hate-speech-7a847a2ec289eb57/0.0.0/2a3b91fbd88a2c90d1dbbb32b460cf621d31bd5b05b934492fdef7d8d6f236ec)\n"
          ]
        },
        {
          "output_type": "display_data",
          "data": {
            "text/plain": [
              "  0%|          | 0/1 [00:00<?, ?it/s]"
            ],
            "application/vnd.jupyter.widget-view+json": {
              "version_major": 2,
              "version_minor": 0,
              "model_id": "47e12dadac604eaab6889b47c1d922ba"
            }
          },
          "metadata": {}
        }
      ]
    },
    {
      "cell_type": "markdown",
      "source": [
        "We are interested in 3 Columns: [\"text\", \"hatespeech\", \"hate_speech_score\"]\n",
        "\n",
        "Text: The tweet\n",
        "\n",
        "HateSpeech: Trinary Classification Variable: 0 - No Hate, 1 - Neutral, 2 - Hatred\n",
        "\n",
        "HateSpeechScore: A continuos variable rangeing from [-8, 6] which gives us the extent of positivity and negativity in tweets."
      ],
      "metadata": {
        "id": "OnjfP2WqS5gS"
      }
    },
    {
      "cell_type": "code",
      "source": [
        "train = df[[\"text\", \"hatespeech\", \"hate_speech_score\"]].iloc[:30000,] # [:100000]\n",
        "train.head()"
      ],
      "metadata": {
        "colab": {
          "base_uri": "https://localhost:8080/",
          "height": 206
        },
        "id": "4-HiIcVOmZ0v",
        "outputId": "005119fa-ccbc-4530-bbe4-35c6c98e185a"
      },
      "execution_count": null,
      "outputs": [
        {
          "output_type": "execute_result",
          "data": {
            "text/plain": [
              "                                                text  hatespeech  \\\n",
              "0  Yes indeed. She sort of reminds me of the elde...         0.0   \n",
              "1  The trans women reading this tweet right now i...         0.0   \n",
              "2  Question: These 4 broads who criticize America...         2.0   \n",
              "3  It is about time for all illegals to go back t...         0.0   \n",
              "4  For starters bend over the one in pink and kic...         2.0   \n",
              "\n",
              "   hate_speech_score  \n",
              "0              -3.90  \n",
              "1              -6.52  \n",
              "2               0.36  \n",
              "3               0.26  \n",
              "4               1.54  "
            ],
            "text/html": [
              "<div>\n",
              "<style scoped>\n",
              "    .dataframe tbody tr th:only-of-type {\n",
              "        vertical-align: middle;\n",
              "    }\n",
              "\n",
              "    .dataframe tbody tr th {\n",
              "        vertical-align: top;\n",
              "    }\n",
              "\n",
              "    .dataframe thead th {\n",
              "        text-align: right;\n",
              "    }\n",
              "</style>\n",
              "<table border=\"1\" class=\"dataframe\">\n",
              "  <thead>\n",
              "    <tr style=\"text-align: right;\">\n",
              "      <th></th>\n",
              "      <th>text</th>\n",
              "      <th>hatespeech</th>\n",
              "      <th>hate_speech_score</th>\n",
              "    </tr>\n",
              "  </thead>\n",
              "  <tbody>\n",
              "    <tr>\n",
              "      <th>0</th>\n",
              "      <td>Yes indeed. She sort of reminds me of the elde...</td>\n",
              "      <td>0.0</td>\n",
              "      <td>-3.90</td>\n",
              "    </tr>\n",
              "    <tr>\n",
              "      <th>1</th>\n",
              "      <td>The trans women reading this tweet right now i...</td>\n",
              "      <td>0.0</td>\n",
              "      <td>-6.52</td>\n",
              "    </tr>\n",
              "    <tr>\n",
              "      <th>2</th>\n",
              "      <td>Question: These 4 broads who criticize America...</td>\n",
              "      <td>2.0</td>\n",
              "      <td>0.36</td>\n",
              "    </tr>\n",
              "    <tr>\n",
              "      <th>3</th>\n",
              "      <td>It is about time for all illegals to go back t...</td>\n",
              "      <td>0.0</td>\n",
              "      <td>0.26</td>\n",
              "    </tr>\n",
              "    <tr>\n",
              "      <th>4</th>\n",
              "      <td>For starters bend over the one in pink and kic...</td>\n",
              "      <td>2.0</td>\n",
              "      <td>1.54</td>\n",
              "    </tr>\n",
              "  </tbody>\n",
              "</table>\n",
              "</div>"
            ]
          },
          "metadata": {},
          "execution_count": 3
        }
      ]
    },
    {
      "cell_type": "markdown",
      "source": [
        "Countplot to visualize how the data is classified."
      ],
      "metadata": {
        "id": "FEAgY7r2T1J7"
      }
    },
    {
      "cell_type": "code",
      "source": [
        "sns.countplot(train['hatespeech'])\n",
        "plt.title(\"Hate speech counts\", fontsize = 15)\n",
        "plt.show()"
      ],
      "metadata": {
        "colab": {
          "base_uri": "https://localhost:8080/",
          "height": 297
        },
        "id": "FLSVYHXemvbr",
        "outputId": "1d5b5611-1d22-49d7-c87a-91b26cb032a5"
      },
      "execution_count": null,
      "outputs": [
        {
          "output_type": "display_data",
          "data": {
            "text/plain": [
              "<Figure size 432x288 with 1 Axes>"
            ],
            "image/png": "[encoded data removed]"
          },
          "metadata": {
            "needs_background": "light"
          }
        }
      ]
    },
    {
      "cell_type": "markdown",
      "source": [
        "We notice that the neutral classification doesn't add a lot of value and hence it's removed."
      ],
      "metadata": {
        "id": "Wokjvu_LT9cp"
      }
    },
    {
      "cell_type": "code",
      "source": [
        "train = train[train['hatespeech'] != 1.0]"
      ],
      "metadata": {
        "id": "hXVGoV0x0z_P"
      },
      "execution_count": null,
      "outputs": []
    },
    {
      "cell_type": "markdown",
      "source": [
        "Countplot after removing."
      ],
      "metadata": {
        "id": "xxJrL41aUIP-"
      }
    },
    {
      "cell_type": "code",
      "source": [
        "sns.countplot(train['hatespeech'])\n",
        "plt.title(\"Hate speech counts\", fontsize = 15)\n",
        "plt.show()"
      ],
      "metadata": {
        "colab": {
          "base_uri": "https://localhost:8080/",
          "height": 297
        },
        "id": "6tfbpjTJ03Ri",
        "outputId": "32459558-7f20-4e4f-8de8-c40bdfbb7b11"
      },
      "execution_count": null,
      "outputs": [
        {
          "output_type": "display_data",
          "data": {
            "text/plain": [
              "<Figure size 432x288 with 1 Axes>"
            ],
            "image/png": "[encoded data removed]"
          },
          "metadata": {
            "needs_background": "light"
          }
        }
      ]
    },
    {
      "cell_type": "markdown",
      "source": [
        "Visualizing how the hate score is spread using histograms. As expected it is a normal distribuion where only few tweets are at the extreme."
      ],
      "metadata": {
        "id": "vkQ-CX3xUQHW"
      }
    },
    {
      "cell_type": "code",
      "source": [
        "bins = [-8,-7,-6,-5,-4,-3,-2,-1,0,1,2,3,4,5,6]\n",
        "plt.hist(train['hate_speech_score'], facecolor='peru', edgecolor='black', bins=bins)"
      ],
      "metadata": {
        "colab": {
          "base_uri": "https://localhost:8080/",
          "height": 336
        },
        "id": "6Qem4_HtxWs7",
        "outputId": "d8a42580-bf7e-4f2a-b196-a7e4997e884c"
      },
      "execution_count": null,
      "outputs": [
        {
          "output_type": "execute_result",
          "data": {
            "text/plain": [
              "(array([ 115.,  270.,  711., 1463., 2482., 3320., 4065., 5243., 5165.,\n",
              "        3434., 1137.,  215.,   48.,   12.]),\n",
              " array([-8, -7, -6, -5, -4, -3, -2, -1,  0,  1,  2,  3,  4,  5,  6]),\n",
              " <BarContainer object of 14 artists>)"
            ]
          },
          "metadata": {},
          "execution_count": 7
        },
        {
          "output_type": "display_data",
          "data": {
            "text/plain": [
              "<Figure size 432x288 with 1 Axes>"
            ],
            "image/png": "[encoded data removed]"
          },
          "metadata": {
            "needs_background": "light"
          }
        }
      ]
    },
    {
      "cell_type": "markdown",
      "source": [
        "## Pre-Processing the Tweets"
      ],
      "metadata": {
        "id": "9hCNjhYu3Muu"
      }
    },
    {
      "cell_type": "markdown",
      "source": [
        "Method to pre-process the text using: Lower Casing, Lematization, Stemming, Removing - Links, Stop Words, Punctuations."
      ],
      "metadata": {
        "id": "7UrfapVHUmwZ"
      }
    },
    {
      "cell_type": "code",
      "source": [
        "nltk.download('omw-1.4')\n",
        "nltk.download('stopwords')\n",
        "nltk.download('wordnet')\n",
        "nltk.download('words')\n",
        "nltk.download('punkt')\n",
        "\n",
        "stopword = nltk.corpus.stopwords.words('english')\n",
        "wn = nltk.WordNetLemmatizer()\n",
        "ps = nltk.PorterStemmer()\n",
        "words = set(nltk.corpus.words.words())\n",
        "\n",
        "def clean_text(text):\n",
        "    text = text.lower()\n",
        "    \n",
        "    # Remove punctuations\n",
        "    mod = str.maketrans('','',string.punctuation)\n",
        "    text = text.translate(mod)\n",
        "    \n",
        "    # Remove Links\n",
        "    text = re.sub(r\"http\\S+\", \"\", text)\n",
        "    \n",
        "    # Remove stop words\n",
        "    stop_set = set(stopwords.words('english'))\n",
        "    tokenized_text = word_tokenize(text)\n",
        "    filtered_text = [word for word in tokenized_text if not word in stop_set]\n",
        "    \n",
        "    #Stemming\n",
        "    cleaned_text = [ps.stem(word) for word in filtered_text]\n",
        "\n",
        "    return \" \".join(cleaned_text)    "
      ],
      "metadata": {
        "colab": {
          "base_uri": "https://localhost:8080/"
        },
        "id": "4wzrbTmQ08x_",
        "outputId": "98224a2f-5cea-4ea2-eb47-de6ecb26a96b"
      },
      "execution_count": null,
      "outputs": [
        {
          "output_type": "stream",
          "name": "stderr",
          "text": [
            "[nltk_data] Downloading package omw-1.4 to\n",
            "[nltk_data]     /Users/rathinvaradharajan/nltk_data...\n",
            "[nltk_data]   Package omw-1.4 is already up-to-date!\n",
            "[nltk_data] Downloading package stopwords to\n",
            "[nltk_data]     /Users/rathinvaradharajan/nltk_data...\n",
            "[nltk_data]   Package stopwords is already up-to-date!\n",
            "[nltk_data] Downloading package wordnet to\n",
            "[nltk_data]     /Users/rathinvaradharajan/nltk_data...\n",
            "[nltk_data]   Package wordnet is already up-to-date!\n",
            "[nltk_data] Downloading package words to\n",
            "[nltk_data]     /Users/rathinvaradharajan/nltk_data...\n",
            "[nltk_data]   Package words is already up-to-date!\n",
            "[nltk_data] Downloading package punkt to\n",
            "[nltk_data]     /Users/rathinvaradharajan/nltk_data...\n",
            "[nltk_data]   Package punkt is already up-to-date!\n"
          ]
        }
      ]
    },
    {
      "cell_type": "markdown",
      "source": [
        "Clean all the tweets"
      ],
      "metadata": {
        "id": "OHAeYnQdVOhG"
      }
    },
    {
      "cell_type": "code",
      "source": [
        "def clean_tweet(tweets):\n",
        "  cleaned_tweet = []\n",
        "  for tweet in tweets:\n",
        "    cleaned_tweet.append(clean_text(tweet))\n",
        "  return cleaned_tweet"
      ],
      "metadata": {
        "id": "XDYJr0UC0_WZ"
      },
      "execution_count": null,
      "outputs": []
    },
    {
      "cell_type": "code",
      "source": [
        "clean_dataset = clean_tweet(train[\"text\"])"
      ],
      "metadata": {
        "id": "tN8LyWx31D8j"
      },
      "execution_count": null,
      "outputs": []
    },
    {
      "cell_type": "markdown",
      "source": [
        "## Predicting HateSpeech (Classification)"
      ],
      "metadata": {
        "id": "ZuZuK7s339QZ"
      }
    },
    {
      "cell_type": "markdown",
      "source": [
        "### Naive Bayes"
      ],
      "metadata": {
        "id": "X343xe7bVacG"
      }
    },
    {
      "cell_type": "code",
      "source": [
        "def naive_bayes(embedding, classifier):\n",
        "  # Vectorizing the dataset.\n",
        "  vectorizer = embedding.fit(clean_dataset)\n",
        "  x_total = vectorizer.transform(clean_dataset)\n",
        "  # Splitting the data to test and train\n",
        "  x_train, x_test, y_train, y_test = train_test_split(x_total, train[\"hatespeech\"], test_size=0.20, random_state=5)\n",
        "  # Fitting the data in model\n",
        "  classifier.fit(x_train.todense(), y_train)\n",
        "  # Predicting test set results\n",
        "  y_pred = classifier.predict(x_test.todense())\n",
        "  return x_total, x_train, x_test, y_train, y_test, y_pred"
      ],
      "metadata": {
        "id": "uXFiYy-m3hPF"
      },
      "execution_count": null,
      "outputs": []
    },
    {
      "cell_type": "markdown",
      "source": [
        "### Evaluation Metrics"
      ],
      "metadata": {
        "id": "zO_rPHkQ3aZl"
      }
    },
    {
      "cell_type": "code",
      "source": [
        "def evaluate_model(y_test, y_pred):\n",
        "  #Calculate the Accuracy, F1 Score, Recall and Precsion\n",
        "  print(classification_report(y_test, y_pred))\n",
        "  cnf = confusion_matrix(y_test, y_pred)\n",
        "  print(\"Confustion Matrix\")\n",
        "  print(cnf)"
      ],
      "metadata": {
        "id": "hffy0afO49QP"
      },
      "execution_count": null,
      "outputs": []
    },
    {
      "cell_type": "markdown",
      "source": [
        "### Comparing Vectorizers (Count & TF-IDF Vectorizers)"
      ],
      "metadata": {
        "id": "y-cUpEJ3YRmy"
      }
    },
    {
      "cell_type": "code",
      "source": [
        "print(\"\\nCount Vectorizer and Naive Bayes\\n\")\n",
        "x_total_cv, x_train_cv, x_test_cv, y_train_cv, y_test_cv, y_pred_cv = naive_bayes(CountVectorizer(), MultinomialNB())\n",
        "evaluate_model(y_test_cv, y_pred_cv)\n",
        "\n",
        "print(\"\\nTfidf Vectorizer and Naive Bayes\\n\")\n",
        "x_total_tf, x_train_tf, x_test_tf, y_train_tf, y_test_tf, y_pred_tf = naive_bayes(TfidfVectorizer(), MultinomialNB())\n",
        "evaluate_model(y_test_tf, y_pred_tf)"
      ],
      "metadata": {
        "colab": {
          "base_uri": "https://localhost:8080/"
        },
        "id": "b89xjxhxGkhM",
        "outputId": "ffb65993-9959-481e-e86b-cfb11410f518"
      },
      "execution_count": null,
      "outputs": [
        {
          "output_type": "stream",
          "name": "stdout",
          "text": [
            "\n",
            "Count Vectorizer and Naive Bayes\n",
            "\n",
            "              precision    recall  f1-score   support\n",
            "\n",
            "         0.0       0.86      0.83      0.84      4018\n",
            "         2.0       0.59      0.65      0.62      1522\n",
            "\n",
            "    accuracy                           0.78      5540\n",
            "   macro avg       0.72      0.74      0.73      5540\n",
            "weighted avg       0.79      0.78      0.78      5540\n",
            "\n",
            "Confustion Matrix\n",
            "[[3323  695]\n",
            " [ 532  990]]\n",
            "\n",
            "Tfidf Vectorizer and Naive Bayes\n",
            "\n",
            "              precision    recall  f1-score   support\n",
            "\n",
            "         0.0       0.77      0.98      0.86      4018\n",
            "         2.0       0.77      0.22      0.34      1522\n",
            "\n",
            "    accuracy                           0.77      5540\n",
            "   macro avg       0.77      0.60      0.60      5540\n",
            "weighted avg       0.77      0.77      0.72      5540\n",
            "\n",
            "Confustion Matrix\n",
            "[[3920   98]\n",
            " [1188  334]]\n"
          ]
        }
      ]
    },
    {
      "cell_type": "markdown",
      "source": [
        "Movinng forward we will be using TF-IDf for all models."
      ],
      "metadata": {
        "id": "WwT07p-9YWfG"
      }
    },
    {
      "cell_type": "code",
      "source": [
        "x_total, x_train, x_test, y_train, y_test = x_total_tf, x_train_tf, x_test_tf, y_train_tf, y_test_tf"
      ],
      "metadata": {
        "id": "mXKQ7BbFYWD7"
      },
      "execution_count": null,
      "outputs": []
    },
    {
      "cell_type": "markdown",
      "source": [
        "### Support Vector Machine algorithm for Classification"
      ],
      "metadata": {
        "id": "96yxO4d6YVyI"
      }
    },
    {
      "cell_type": "code",
      "source": [
        "# Define model\n",
        "SVM = svm.SVC(C=1.0, kernel='linear', degree=3, gamma='auto')\n",
        "# Fit the training dataset on the classifier\n",
        "SVM.fit(x_train.todense(), y_train)\n",
        "# Predict the labels on test dataset\n",
        "y_pred = SVM.predict(x_test.todense())"
      ],
      "metadata": {
        "id": "JMj9NdWvPImK"
      },
      "execution_count": null,
      "outputs": []
    },
    {
      "cell_type": "code",
      "source": [
        "print(\"Support Vector Machine\")\n",
        "evaluate_model(y_test, y_pred)"
      ],
      "metadata": {
        "colab": {
          "base_uri": "https://localhost:8080/"
        },
        "id": "VBSMcIdzPpGl",
        "outputId": "8465af00-6779-4824-bda9-cc86a7a8320a"
      },
      "execution_count": null,
      "outputs": [
        {
          "output_type": "stream",
          "name": "stdout",
          "text": [
            "Support Vector Machine\n",
            "              precision    recall  f1-score   support\n",
            "\n",
            "         0.0       0.82      0.95      0.88      1353\n",
            "         2.0       0.76      0.43      0.55       498\n",
            "\n",
            "    accuracy                           0.81      1851\n",
            "   macro avg       0.79      0.69      0.72      1851\n",
            "weighted avg       0.80      0.81      0.79      1851\n",
            "\n",
            "Confustion Matrix\n",
            "[[1283   70]\n",
            " [ 282  216]]\n"
          ]
        }
      ]
    },
    {
      "cell_type": "markdown",
      "source": [
        "### Random Forest Algorithm for Classification"
      ],
      "metadata": {
        "id": "NaibJ29sZuKk"
      }
    },
    {
      "cell_type": "code",
      "source": [
        "# Define model\n",
        "rf = RandomForestClassifier(n_estimators=400,criterion=\"entropy\",random_state=0)\n",
        "# Fit the training dataset on the classifier\n",
        "rf.fit(x_train.todense(), y_train)\n",
        "# Predict the labels on test dataset\n",
        "y_pred = rf.predict(x_test)"
      ],
      "metadata": {
        "id": "PD_tRt2UzyTQ"
      },
      "execution_count": null,
      "outputs": []
    },
    {
      "cell_type": "code",
      "source": [
        "print(\"Random Forest\")\n",
        "evaluate_model(y_test, y_pred)"
      ],
      "metadata": {
        "colab": {
          "base_uri": "https://localhost:8080/"
        },
        "id": "ge32NyV10ISJ",
        "outputId": "2ac26a2e-f802-4f45-c369-138aeccd44dc"
      },
      "execution_count": null,
      "outputs": [
        {
          "output_type": "stream",
          "name": "stdout",
          "text": [
            "Random Forest\n",
            "              precision    recall  f1-score   support\n",
            "\n",
            "         0.0       0.82      0.93      0.87      4018\n",
            "         2.0       0.72      0.47      0.57      1522\n",
            "\n",
            "    accuracy                           0.80      5540\n",
            "   macro avg       0.77      0.70      0.72      5540\n",
            "weighted avg       0.79      0.80      0.79      5540\n",
            "\n",
            "Confustion Matrix\n",
            "[[3734  284]\n",
            " [ 802  720]]\n"
          ]
        }
      ]
    },
    {
      "cell_type": "markdown",
      "source": [
        "### XGBoost Algorthm for Classification"
      ],
      "metadata": {
        "id": "aQdxjjYc3xBf"
      }
    },
    {
      "cell_type": "code",
      "source": [
        "from sklearn import preprocessing\n",
        "\n",
        "label_encoder = preprocessing.LabelEncoder()\n",
        "_ = label_encoder.fit([0.0, 2.0])\n",
        "\n",
        "y_train = label_encoder.transform(y_train)\n",
        "y_test = label_encoder.transform(y_test)"
      ],
      "metadata": {
        "id": "PDn8BTjt7eyc"
      },
      "execution_count": null,
      "outputs": []
    },
    {
      "cell_type": "code",
      "source": [
        "# Define model\n",
        "xgb = XGBClassifier(loss='log_loss', learning_rate=0.1, n_estimators=300)\n",
        "# Fit the training dataset on the classifier\n",
        "xgb.fit(x_train, y_train)\n",
        "# Predict the labels on test dataset\n",
        "y_pred = xgb.predict(x_test)"
      ],
      "metadata": {
        "id": "at7WXLjv7pnP",
        "colab": {
          "base_uri": "https://localhost:8080/"
        },
        "outputId": "207ac08a-5b1b-46a2-a7f1-1dc5d7e931b3"
      },
      "execution_count": null,
      "outputs": [
        {
          "output_type": "stream",
          "name": "stdout",
          "text": [
            "[17:37:39] WARNING: /Users/runner/work/xgboost/xgboost/python-package/build/temp.macosx-11.0-arm64-3.8/xgboost/src/learner.cc:627: \n",
            "Parameters: { \"loss\" } might not be used.\n",
            "\n",
            "  This could be a false alarm, with some parameters getting used by language bindings but\n",
            "  then being mistakenly passed down to XGBoost core, or some parameter actually being used\n",
            "  but getting flagged wrongly here. Please open an issue if you find any such cases.\n",
            "\n",
            "\n"
          ]
        }
      ]
    },
    {
      "cell_type": "code",
      "source": [
        "print(\"XG Boost\")\n",
        "evaluate_model(y_test, y_pred)"
      ],
      "metadata": {
        "colab": {
          "base_uri": "https://localhost:8080/"
        },
        "id": "4gUOwtjz-zUk",
        "outputId": "6b37bd5d-2d0e-4f6d-885b-53bcebbcdedd"
      },
      "execution_count": null,
      "outputs": [
        {
          "output_type": "stream",
          "name": "stdout",
          "text": [
            "XG Boost\n",
            "              precision    recall  f1-score   support\n",
            "\n",
            "           0       0.83      0.94      0.88      4018\n",
            "           1       0.75      0.49      0.60      1522\n",
            "\n",
            "    accuracy                           0.82      5540\n",
            "   macro avg       0.79      0.72      0.74      5540\n",
            "weighted avg       0.81      0.82      0.80      5540\n",
            "\n",
            "Confustion Matrix\n",
            "[[3766  252]\n",
            " [ 770  752]]\n"
          ]
        }
      ]
    },
    {
      "cell_type": "markdown",
      "source": [
        "## Predicting Hate Speech Score (Regression)"
      ],
      "metadata": {
        "id": "W8L3vKlrc9Al"
      }
    },
    {
      "cell_type": "markdown",
      "source": [
        "Splitting the dataset into training and testing"
      ],
      "metadata": {
        "id": "IrGKkRqS6_2S"
      }
    },
    {
      "cell_type": "code",
      "source": [
        "x_train, x_test, y_train, y_test = train_test_split(x_total, train[\"hate_speech_score\"], test_size=0.20, random_state=5)"
      ],
      "metadata": {
        "id": "c4uQQKMDHk9h"
      },
      "execution_count": null,
      "outputs": []
    },
    {
      "cell_type": "markdown",
      "source": [
        "### Evaluation Metrics"
      ],
      "metadata": {
        "id": "dfvr-X9ydDQa"
      }
    },
    {
      "cell_type": "markdown",
      "source": [
        "We use Mean Absolute Error and Root Mean Square Error for evaluating the regression models since these are the best metrics to measure performance."
      ],
      "metadata": {
        "id": "hzO1705b7HVc"
      }
    },
    {
      "cell_type": "code",
      "source": [
        "def evaluate_regression_models(y_pred, y_test):\n",
        "  mae = metrics.mean_absolute_error(y_pred, y_test)\n",
        "  rmse =  np.sqrt(metrics.mean_squared_error(y_test,y_pred))\n",
        "  print(\"Mean Absolute Error: \", mae)\n",
        "  print(\"Root Mean Square Error: \", rmse)\n"
      ],
      "metadata": {
        "id": "0zmkwRgSpjNd"
      },
      "execution_count": null,
      "outputs": []
    },
    {
      "cell_type": "markdown",
      "source": [
        "### Lasso Regression"
      ],
      "metadata": {
        "id": "mV9hkgIE4UoR"
      }
    },
    {
      "cell_type": "code",
      "source": [
        "# Define model\n",
        "regr = linear_model.Lasso()\n",
        "# Fit the training dataset on the regressor\n",
        "regr.fit(x_train, y_train)\n",
        "# Predict the hatescore\n",
        "y_pred = regr.predict(x_test)\n",
        "print(\"Lasso Regression\")\n",
        "evaluate_regression_models(y_pred, y_test)"
      ],
      "metadata": {
        "colab": {
          "base_uri": "https://localhost:8080/"
        },
        "id": "dyS35ZWIyIQ2",
        "outputId": "1d22f37d-4a67-4da7-99d8-ee6f7523254f"
      },
      "execution_count": null,
      "outputs": [
        {
          "output_type": "stream",
          "name": "stdout",
          "text": [
            "Lasso Regression\n",
            "Mean Absolute Error:  1.7195029317364152\n",
            "Root Mean Square Error:  2.1129277556914614\n"
          ]
        }
      ]
    },
    {
      "cell_type": "markdown",
      "source": [
        "We see that Lasso Regresssion is not performing well."
      ],
      "metadata": {
        "id": "F-u6Kjh57X2c"
      }
    },
    {
      "cell_type": "markdown",
      "source": [
        "### Stochastic Gradient Descent"
      ],
      "metadata": {
        "id": "HS7CllPM4beK"
      }
    },
    {
      "cell_type": "code",
      "source": [
        "# Define model\n",
        "regr = linear_model.SGDRegressor()\n",
        "# Fit the training dataset on the regressor\n",
        "regr.fit(x_train, y_train)\n",
        "# Predict the hatescore\n",
        "y_pred = regr.predict(x_test)\n",
        "print(\"Stochastic Gradient Descent\")\n",
        "evaluate_regression_models(y_pred, y_test)"
      ],
      "metadata": {
        "id": "ABdS1v4MLS3V",
        "colab": {
          "base_uri": "https://localhost:8080/"
        },
        "outputId": "04b3b565-b7f0-440a-bd7e-fdb2246753b7"
      },
      "execution_count": null,
      "outputs": [
        {
          "output_type": "stream",
          "name": "stdout",
          "text": [
            "Stochastic Gradient Descent\n",
            "Mean Absolute Error:  1.1674311409753655\n",
            "Root Mean Square Error:  1.493223135463569\n"
          ]
        }
      ]
    },
    {
      "cell_type": "markdown",
      "source": [
        "Stochastic Gradient Descent does better than Lasso and bring down the error significantly."
      ],
      "metadata": {
        "id": "AeBHrWCQ7gmy"
      }
    },
    {
      "cell_type": "markdown",
      "source": [
        "### Ridge Regression"
      ],
      "metadata": {
        "id": "JM1caq7W4gKT"
      }
    },
    {
      "cell_type": "code",
      "source": [
        "# Define model\n",
        "regr = linear_model.Ridge()\n",
        "# Fit the training dataset on the regressor\n",
        "regr.fit(x_train, y_train)\n",
        "# Predict the hatescore\n",
        "y_pred = regr.predict(x_test)\n",
        "print(\"Ridge Regression\")\n",
        "evaluate_regression_models(y_pred, y_test)"
      ],
      "metadata": {
        "id": "Ew0QVrfgsrdy",
        "colab": {
          "base_uri": "https://localhost:8080/"
        },
        "outputId": "790c4071-b94e-492f-cc6e-03474db0d4c2"
      },
      "execution_count": null,
      "outputs": [
        {
          "output_type": "stream",
          "name": "stdout",
          "text": [
            "Ridge Regression\n",
            "Mean Absolute Error:  1.0570302379262142\n",
            "Root Mean Square Error:  1.3684374592455681\n"
          ]
        }
      ]
    },
    {
      "cell_type": "markdown",
      "source": [
        "Ridge Performs marginally better than the SGD."
      ],
      "metadata": {
        "id": "Zx45Agzc7rpo"
      }
    },
    {
      "cell_type": "markdown",
      "source": [
        "### K Nearest Neighbour (K=10)"
      ],
      "metadata": {
        "id": "cRnzlLrT4jYn"
      }
    },
    {
      "cell_type": "code",
      "source": [
        "# Define model\n",
        "model = neighbors.KNeighborsRegressor(n_neighbors = 10)\n",
        "# Fit the training dataset on the model\n",
        "model.fit(x_train, y_train) \n",
        "# Predict the hatescore \n",
        "y_pred=model.predict(x_test)\n",
        "print(\"K Nearest Neighbour\")\n",
        "evaluate_regression_models(y_pred, y_test)"
      ],
      "metadata": {
        "colab": {
          "base_uri": "https://localhost:8080/"
        },
        "id": "8QC1UM6PzB9v",
        "outputId": "5a291ebb-740a-4529-d7c2-b977d12d8a30"
      },
      "execution_count": null,
      "outputs": [
        {
          "output_type": "stream",
          "name": "stdout",
          "text": [
            "K Nearest Neighbour\n",
            "Mean Absolute Error:  1.2366447653429604\n",
            "Root Mean Square Error:  1.5914015416566\n"
          ]
        }
      ]
    },
    {
      "cell_type": "markdown",
      "source": [
        "Aside from the regular regression models, K NN can also be used in predicting the hate speech score. Once the model is trained for each tweet its nearest neighbors are computed and averaged out to find the predicted value. \n",
        "K value of 10 is chosen after iterating for multiple values."
      ],
      "metadata": {
        "id": "WqnnpArm7zHw"
      }
    }
  ]
}